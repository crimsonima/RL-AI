{
 "cells": [
  {
   "cell_type": "code",
   "execution_count": null,
   "metadata": {},
   "outputs": [],
   "source": [
    "from typing import Tuple, Dict, Optional, Iterable, Callable\n",
    "\n",
    "import numpy as np\n",
    "import seaborn as sns\n",
    "import matplotlib\n",
    "import torch\n",
    "from matplotlib import animation\n",
    "import matplotlib.patches as mpatches\n",
    "\n",
    "from IPython.display import HTML\n",
    "\n",
    "import gym\n",
    "from gym import spaces\n",
    "from gym.error import DependencyNotInstalled\n",
    "\n",
    "import pygame\n",
    "from pygame import gfxdraw"
   ]
  },
  {
   "cell_type": "code",
   "execution_count": 1,
   "metadata": {
    "colab": {
     "base_uri": "https://localhost:8080/"
    },
    "id": "E4pxsu9-mPGv",
    "outputId": "c3e7fddd-48f9-4369-fa44-a267323feee4"
   },
   "outputs": [],
   "source": [
    "def display_video(frames):\n",
    "    # Copied from: https://colab.research.google.com/github/deepmind/dm_control/blob/master/tutorial.ipynb\n",
    "    orig_backend = matplotlib.get_backend()\n",
    "    matplotlib.use('Agg')\n",
    "    fig, ax = plt.subplots(1, 1, figsize=(5, 5))\n",
    "    matplotlib.use(orig_backend)\n",
    "    ax.set_axis_off()\n",
    "    ax.set_aspect('equal')\n",
    "    ax.set_position([0, 0, 1, 1])\n",
    "    im = ax.imshow(frames[0])\n",
    "    def update(frame):\n",
    "        im.set_data(frame)\n",
    "        return [im]\n",
    "    anim = animation.FuncAnimation(fig=fig, func=update, frames=frames,\n",
    "                                    interval=50, blit=True, repeat=False)\n",
    "    return HTML(anim.to_html5_video())\n",
    "\n",
    "\n",
    "def test_agent(env, policy, episodes=10):\n",
    "    frames = []\n",
    "    for episode in range(episodes):\n",
    "        state = env.reset()\n",
    "        done = False\n",
    "        frames.append(env.render(mode=\"rgb_array\"))\n",
    "\n",
    "        while not done:\n",
    "            p = policy(state)\n",
    "            if isinstance(p, np.ndarray):\n",
    "                action = np.random.choice(4, p=p)\n",
    "            else:\n",
    "                action = p\n",
    "            next_state, reward, done, extra_info = env.step(action)\n",
    "            img = env.render(mode=\"rgb_array\")\n",
    "            frames.append(img)\n",
    "            state = next_state\n",
    "\n",
    "    return display_video(frames)\n",
    "\n",
    "\n",
    "def seed_everything(env: gym.Env, seed: int = 42) -> None:\n",
    "    env.seed(seed)\n",
    "    env.action_space.seed(seed)\n",
    "    env.observation_space.seed(seed)\n",
    "    np.random.seed(seed)\n",
    "    torch.manual_seed(seed)\n",
    "    torch.use_deterministic_algorithms(True)\n",
    "\n",
    "\n",
    "def plot_stats(stats):\n",
    "    rows = len(stats)\n",
    "    cols = 1\n",
    "\n",
    "    fig, ax = plt.subplots(rows, cols, figsize=(12, 6))\n",
    "\n",
    "    for i, key in enumerate(stats):\n",
    "        vals = stats[key]\n",
    "        vals = [np.mean(vals[i-10:i+10]) for i in range(10, len(vals)-10)]\n",
    "        if len(stats) > 1:\n",
    "            ax[i].plot(range(len(vals)), vals)\n",
    "            ax[i].set_title(key, size=18)\n",
    "        else:\n",
    "            ax.plot(range(len(vals)), vals)\n",
    "            ax.set_title(key, size=18)\n",
    "    plt.tight_layout()\n",
    "    plt.show()\n"
   ]
  },
  {
   "cell_type": "markdown",
   "metadata": {
    "id": "QXh1rh7YmGO7"
   },
   "source": [
    "## Import the necessary software libraries:"
   ]
  },
  {
   "cell_type": "code",
   "execution_count": 3,
   "metadata": {
    "colab": {
     "base_uri": "https://localhost:8080/"
    },
    "id": "yIz69YQomGO7",
    "outputId": "5fc51c21-1ad6-469f-b56f-a254a0dc7ff4"
   },
   "outputs": [],
   "source": [
    "import random\n",
    "import copy\n",
    "import gym\n",
    "import torch\n",
    "import torch.nn.functional as F\n",
    "import matplotlib.pyplot as plt\n",
    "from torch import nn as nn\n",
    "from torch.optim import AdamW\n",
    "from tqdm import tqdm"
   ]
  },
  {
   "cell_type": "markdown",
   "metadata": {
    "id": "7CYkeXJCmGO8"
   },
   "source": [
    "## Create and prepare the environment"
   ]
  },
  {
   "cell_type": "markdown",
   "metadata": {
    "id": "PV0R_SojmGO8"
   },
   "source": [
    "### Create the environment"
   ]
  },
  {
   "cell_type": "code",
   "execution_count": 6,
   "metadata": {
    "colab": {
     "base_uri": "https://localhost:8080/",
     "height": 631
    },
    "id": "qi2Tk4qumGO9",
    "outputId": "47403ab8-5341-4c47-d4cb-76401fbc4ebb"
   },
   "outputs": [
    {
     "name": "stderr",
     "output_type": "stream",
     "text": [
      "C:\\Users\\nimah\\.pyenv\\pyenv-win\\versions\\3.11.4\\Lib\\site-packages\\gym\\envs\\registration.py:505: UserWarning: \u001b[33mWARN: The environment CartPole-v0 is out of date. You should consider upgrading to version `v1` with the environment ID `CartPole-v1`.\u001b[0m\n",
      "  logger.warn(\n"
     ]
    },
    {
     "data": {
      "text/plain": [
       "<matplotlib.image.AxesImage at 0x282eaad50d0>"
      ]
     },
     "execution_count": 6,
     "metadata": {},
     "output_type": "execute_result"
    },
    {
     "data": {
      "image/png": "[encoded data removed]",
      "text/plain": [
       "<Figure size 640x480 with 1 Axes>"
      ]
     },
     "metadata": {},
     "output_type": "display_data"
    }
   ],
   "source": [
    "env = gym.make('CartPole-v0')\n",
    "seed_everything(env)\n",
    "env.reset()\n",
    "plt.imshow(env.render(mode='rgb_array'))"
   ]
  },
  {
   "cell_type": "code",
   "execution_count": 7,
   "metadata": {
    "colab": {
     "base_uri": "https://localhost:8080/"
    },
    "id": "OOI4NZFR-g4s",
    "outputId": "2ac13655-858d-4ea6-9c5d-0f2543d1d280"
   },
   "outputs": [
    {
     "name": "stdout",
     "output_type": "stream",
     "text": [
      "state space: 4 , action space: 2\n"
     ]
    }
   ],
   "source": [
    "state_dims = env.observation_space.shape[0] #state dimentions: 4 values: position of the cart, speed of the cart, angle of the pole, and the speed of which that the pole falls.\n",
    "num_actions = env.action_space.n #action space\n",
    "print(f\"state space: {state_dims} , action space: {num_actions}\")"
   ]
  },
  {
   "cell_type": "markdown",
   "metadata": {
    "id": "8lRro8JfmGO9"
   },
   "source": [
    "### Prepare the environment to work with PyTorch"
   ]
  },
  {
   "cell_type": "code",
   "execution_count": 9,
   "metadata": {
    "id": "Tr4VrlvjmGO9"
   },
   "outputs": [],
   "source": [
    "class PreprocessEnv(gym.Wrapper):\n",
    "\n",
    "    def __init__(self, env):\n",
    "        gym.Wrapper.__init__(self, env)\n",
    "\n",
    "    def reset(self):\n",
    "        obs = self.env.reset()\n",
    "        return torch.from_numpy(obs).unsqueeze(dim=0).float()\n",
    "\n",
    "    def step(self, action):\n",
    "        action = action.item()\n",
    "        next_state, reward, done, info = self.env.step(action)\n",
    "        next_state = torch.from_numpy(next_state).unsqueeze(dim=0).float()\n",
    "        reward = torch.tensor(reward).view(1, -1).float()\n",
    "        done = torch.tensor(done).view(1, -1)\n",
    "        return next_state, reward, done, info"
   ]
  },
  {
   "cell_type": "code",
   "execution_count": 10,
   "metadata": {
    "id": "v87pAharmGO9"
   },
   "outputs": [],
   "source": [
    "env = PreprocessEnv(env)"
   ]
  },
  {
   "cell_type": "code",
   "execution_count": 11,
   "metadata": {
    "colab": {
     "base_uri": "https://localhost:8080/"
    },
    "id": "82nlQI26mGO9",
    "outputId": "f1481ccd-53af-4b68-8ef4-913e331334e9"
   },
   "outputs": [
    {
     "name": "stdout",
     "output_type": "stream",
     "text": [
      "Sample state: tensor([[-0.0406,  0.0476,  0.0261,  0.0286]])\n",
      "Next state: tensor([[-0.0396, -0.1479,  0.0267,  0.3294]]), Reward: tensor([[1.]]), Done: tensor([[False]])\n"
     ]
    }
   ],
   "source": [
    "state = env.reset()\n",
    "action = torch.tensor(0)\n",
    "next_state, reward, done, _ = env.step(action)\n",
    "print(f\"Sample state: {state}\")\n",
    "print(f\"Next state: {next_state}, Reward: {reward}, Done: {done}\")"
   ]
  },
  {
   "cell_type": "markdown",
   "metadata": {
    "id": "_aDkOllmmGO9"
   },
   "source": [
    "[link text](https://)## Create the Q-Network and policy\n",
    "\n",
    "<br><br>"
   ]
  },
  {
   "cell_type": "markdown",
   "metadata": {
    "id": "7lPti0REmGO-"
   },
   "source": [
    "### Create the Q-Network: $\\hat q(s,a| \\theta)$"
   ]
  },
  {
   "cell_type": "code",
   "execution_count": 14,
   "metadata": {
    "id": "ABFi9TU9mGO-"
   },
   "outputs": [],
   "source": [
    "q_network = nn.Sequential(\n",
    "    nn.Linear(state_dims, 128),\n",
    "    nn.ReLU(),\n",
    "    nn.Linear(128, 64),\n",
    "    nn.ReLU(),\n",
    "    nn.Linear(64, num_actions)\n",
    ")"
   ]
  },
  {
   "cell_type": "markdown",
   "metadata": {
    "id": "PH4vUbtUmGO-"
   },
   "source": [
    "### Create the target Q-Network: $\\hat q(s, a|\\theta_{targ})$"
   ]
  },
  {
   "cell_type": "code",
   "execution_count": 16,
   "metadata": {
    "id": "RGqbOfrEmGO-"
   },
   "outputs": [],
   "source": [
    "target_q_network =  copy.deepcopy(q_network).eval()\n"
   ]
  },
  {
   "cell_type": "markdown",
   "metadata": {
    "id": "FJ1lw7UymGO-"
   },
   "source": [
    "### Create the exploratory policy: $b(s)$"
   ]
  },
  {
   "cell_type": "code",
   "execution_count": 18,
   "metadata": {
    "id": "T6E9kafymGO-"
   },
   "outputs": [],
   "source": [
    "def policy(state, epsilon=0.):\n",
    "    if torch.rand(1) < epsilon:\n",
    "        return torch.randint(num_actions, (1, 1))\n",
    "    else:\n",
    "        av = q_network(state).detach()\n",
    "        return torch.argmax(av, dim=-1, keepdim=True)"
   ]
  },
  {
   "cell_type": "markdown",
   "metadata": {
    "id": "dVHtSSQymGO-"
   },
   "source": [
    "## Create the Experience Replay buffer\n",
    "\n",
    "<br>\n",
    "<div style=\"text-align:center\">\n",
    "    <p>A simple buffer that stores transitions of arbitrary values, adapted from\n",
    "    <a href=\"https://pytorch.org/tutorials/intermediate/reinforcement_q_learning.html#training\">this source.</a></p>\n",
    "</div>\n"
   ]
  },
  {
   "cell_type": "code",
   "execution_count": 20,
   "metadata": {
    "id": "FjpSAtp4mGO-"
   },
   "outputs": [],
   "source": [
    "class ReplayMemory:\n",
    "\n",
    "    def __init__(self, capacity=100000):\n",
    "        self.capacity = capacity\n",
    "        self.memory = []\n",
    "        self.position = 0\n",
    "\n",
    "    def insert(self, transition):\n",
    "        if len(self.memory) < self.capacity:\n",
    "            self.memory.append(None)\n",
    "        self.memory[self.position] = transition\n",
    "        self.position = (self.position + 1) % self.capacity\n",
    "\n",
    "    def sample(self, batch_size):\n",
    "        assert self.can_sample(batch_size)\n",
    "\n",
    "        batch = random.sample(self.memory, batch_size)\n",
    "        batch = zip(*batch)\n",
    "        return [torch.cat(items) for items in batch]\n",
    "\n",
    "    def can_sample(self, batch_size):\n",
    "        return len(self.memory) >= batch_size * 10\n",
    "\n",
    "    def __len__(self):\n",
    "        return len(self.memory)"
   ]
  },
  {
   "cell_type": "markdown",
   "metadata": {
    "id": "pfIPpqjJmGO-",
    "scrolled": false
   },
   "source": [
    "## Implement the algorithm\n",
    "\n",
    "</br></br>"
   ]
  },
  {
   "cell_type": "code",
   "execution_count": 22,
   "metadata": {
    "id": "1VxwD6svmGO_"
   },
   "outputs": [],
   "source": [
    "def deep_q_learning(q_network, policy, episodes, alpha=0.0001, batch_size=32, gamma=0.99, epsilon=0.2):\n",
    "  optim = AdamW(q_network.parameters(), lr=alpha)\n",
    "  memory = ReplayMemory()\n",
    "  stats = {'MSE Loss' : [],'Returns' : []}\n",
    "\n",
    "  for episode in tqdm(range(1, episodes + 1)):\n",
    "    state = env.reset()\n",
    "    done = False\n",
    "    #compute the return of each episode:\n",
    "    ep_return = 0\n",
    "\n",
    "    while not done:\n",
    "      action = policy(state, epsilon)\n",
    "      next_state, reward, done, _ = env.step(action)\n",
    "      memory.insert([state, action, reward,done, next_state])\n",
    "\n",
    "      if memory.can_sample(batch_size):\n",
    "        state_b, action_b, reward_b, done_b, next_state_b = memory.sample(batch_size)\n",
    "        #q values for the current state\n",
    "        qsa_b = q_network(state_b).gather(1, action_b)\n",
    "        #q values for the next sates:\n",
    "        next_qsa_b = target_q_network(next_state_b)\n",
    "        #select the highest q value:\n",
    "        next_qsa_b = torch.max(next_qsa_b,dim=-1, keepdim=True)[0]\n",
    "\n",
    "        target_b = reward_b + ~done_b * gamma * next_qsa_b\n",
    "        loss = F.mse_loss(qsa_b, target_b)\n",
    "\n",
    "        #wipe gradiants from nn:\n",
    "        q_network.zero_grad()\n",
    "        #update nn:\n",
    "        loss.backward()\n",
    "        optim.step()\n",
    "\n",
    "        stats['MSE Loss'].append(loss.item())\n",
    "\n",
    "      state = next_state\n",
    "      ep_return += reward.item()\n",
    "\n",
    "    stats['Returns'].append(ep_return)\n",
    "\n",
    "    #every 10 episodes update the target nn\n",
    "    if episode % 10 == 0 :\n",
    "      target_q_network.load_state_dict(q_network.state_dict())\n",
    "\n",
    "  return stats\n"
   ]
  },
  {
   "cell_type": "code",
   "execution_count": 29,
   "metadata": {
    "colab": {
     "base_uri": "https://localhost:8080/"
    },
    "id": "kbi8PEzlmGO_",
    "outputId": "7dc4034e-43e9-45c2-e2fa-a6f44eceafd1",
    "scrolled": true
   },
   "outputs": [
    {
     "name": "stderr",
     "output_type": "stream",
     "text": [
      "100%|████████████████████████████████████████████████████████████████████████████████| 500/500 [00:33<00:00, 15.04it/s]\n"
     ]
    }
   ],
   "source": [
    "stats = deep_q_learning(q_network, policy, 500)"
   ]
  },
  {
   "cell_type": "code",
   "execution_count": 30,
   "metadata": {
    "id": "cQv4IRqkSeH7"
   },
   "outputs": [],
   "source": [
    "window_size = 500\n",
    "y_smooth = np.convolve(stats['MSE Loss'], np.ones(window_size)/window_size, mode='valid')"
   ]
  },
  {
   "cell_type": "code",
   "execution_count": 33,
   "metadata": {
    "colab": {
     "base_uri": "https://localhost:8080/",
     "height": 430
    },
    "id": "nJmv9NrRTNyz",
    "outputId": "d2bb1b18-60ec-4a30-9980-4f2fb28c0e2e"
   },
   "outputs": [
    {
     "data": {
      "image/png": "[encoded data removed]",
      "text/plain": [
       "<Figure size 640x480 with 1 Axes>"
      ]
     },
     "metadata": {},
     "output_type": "display_data"
    }
   ],
   "source": [
    "plt.plot(np.arange(y_smooth.size), y_smooth, label='Smoothed', linewidth=2)\n",
    "plt.legend()\n",
    "plt.show()"
   ]
  },
  {
   "cell_type": "markdown",
   "metadata": {
    "id": "p-3XR-_OmGO_"
   },
   "source": [
    "## Show results"
   ]
  },
  {
   "cell_type": "markdown",
   "metadata": {
    "id": "VCMwXERHmGO_"
   },
   "source": [
    "### Plot execution stats"
   ]
  },
  {
   "cell_type": "code",
   "execution_count": 35,
   "metadata": {
    "colab": {
     "base_uri": "https://localhost:8080/",
     "height": 663
    },
    "id": "kWrIfjzkmGO_",
    "outputId": "776c9a77-96f5-42b9-ba5e-12e96210603d"
   },
   "outputs": [
    {
     "data": {
      "image/png": "[encoded data removed]",
      "text/plain": [
       "<Figure size 1200x600 with 2 Axes>"
      ]
     },
     "metadata": {},
     "output_type": "display_data"
    }
   ],
   "source": [
    "plot_stats(stats)"
   ]
  },
  {
   "cell_type": "markdown",
   "metadata": {
    "id": "SpLObvs5mGO_"
   },
   "source": [
    "### Test the resulting agent"
   ]
  },
  {
   "cell_type": "code",
   "execution_count": 38,
   "metadata": {
    "colab": {
     "base_uri": "https://localhost:8080/",
     "height": 631
    },
    "id": "LKyHEYyemGO_",
    "outputId": "634f30a0-1bed-4592-e608-f02df31e50e5"
   },
   "outputs": [
    {
     "name": "stderr",
     "output_type": "stream",
     "text": [
      "C:\\Users\\nimah\\AppData\\Local\\Temp\\ipykernel_36484\\3690590741.py:35: MatplotlibDeprecationWarning: Auto-close()ing of figures upon backend switching is deprecated since 3.8 and will be removed in 3.10.  To suppress this warning, explicitly call plt.close('all') first.\n",
      "  matplotlib.use(orig_backend)\n"
     ]
    },
    {
     "data": {
      "text/html": [
       "<video width=\"500\" height=\"500\" controls autoplay>\n",
       "  <source type=\"video/mp4\" src=\"data:video/mp4;base64,AAAAIGZ0eXBNNFYgAAACAE00ViBpc29taXNvMmF2YzEAAAAIZnJlZQAARnttZGF0AAACrwYF//+r\n",
       "3EXpvebZSLeWLNgg2SPu73gyNjQgLSBjb3JlIDE2NCByMzE5OCBkYTE0ZGY1IC0gSC4yNjQvTVBF\n",
       "Ry00IEFWQyBjb2RlYyAtIENvcHlsZWZ0IDIwMDMtMjAyNCAtIGh0dHA6Ly93d3cudmlkZW9sYW4u\n",
       "b3JnL3gyNjQuaHRtbCAtIG9wdGlvbnM6IGNhYmFjPTEgcmVmPTMgZGVibG9jaz0xOjA6MCBhbmFs\n",
       "eXNlPTB4MzoweDExMyBtZT1oZXggc3VibWU9NyBwc3k9MSBwc3lfcmQ9MS4wMDowLjAwIG1peGVk\n",
       "X3JlZj0xIG1lX3JhbmdlPTE2IGNocm9tYV9tZT0xIHRyZWxsaXM9MSA4eDhkY3Q9MSBjcW09MCBk\n",
       "ZWFkem9uZT0yMSwxMSBmYXN0X3Bza2lwPTEgY2hyb21hX3FwX29mZnNldD0tMiB0aHJlYWRzPTE2\n",
       "IGxvb2thaGVhZF90aHJlYWRzPTIgc2xpY2VkX3RocmVhZHM9MCBucj0wIGRlY2ltYXRlPTEgaW50\n",
       "ZXJsYWNlZD0wIGJsdXJheV9jb21wYXQ9MCBjb25zdHJhaW5lZF9pbnRyYT0wIGJmcmFtZXM9MyBi\n",
       "X3B5cmFtaWQ9MiBiX2FkYXB0PTEgYl9iaWFzPTAgZGlyZWN0PTEgd2VpZ2h0Yj0xIG9wZW5fZ29w\n",
       "PTAgd2VpZ2h0cD0yIGtleWludD0yNTAga2V5aW50X21pbj0yMCBzY2VuZWN1dD00MCBpbnRyYV9y\n",
       "ZWZyZXNoPTAgcmNfbG9va2FoZWFkPTQwIHJjPWNyZiBtYnRyZWU9MSBjcmY9MjMuMCBxY29tcD0w\n",
       "LjYwIHFwbWluPTAgcXBtYXg9NjkgcXBzdGVwPTQgaXBfcmF0aW89MS40MCBhcT0xOjEuMDAAgAAA\n",
       "AhRliIQAM//+9uy+BTX9n9CXESzF2kpwPiqkgIB3N+wAAAMAAAMAAAkMPST6NLC2kOAAAFEABkR3\n",
       "EJMguirMM7mAfjcaaX6cHiYASTUxPRDAoh/woaVkSYzUbuZ1Sn6mQXZ8sKUpstZld/H9oh+h/GSf\n",
       "4gRkCQzl9cntSGVnotMkFaQpm/Kp3vRyuLrNK+K8AcfJ0XwtlVa6HiY49T3sKR+XXxb9fb/pUM67\n",
       "B1VV0KZcwwgCjGYd+GjaSrTUvWth8HYkHacro/kD5Gb89xTd9rgJGd3alKflQ7KKBvmsV9DhfCvv\n",
       "dCBAqoe4RS9/iXerXlwMucHjoerucjtT7NvGhqVqfq3xpdFPiPCjTyhghDDoBbydN0TyXtNtaDZ5\n",
       "Qdx9rry42gVpV7V1QJdvt/kd+IC9zMmhivhTtA3W/YZPwu27rk3OwwxQuABZR29MpYlxABy1Qfcu\n",
       "O/+GiKgf8UyOOlHMPuu7M9Xfn5g2SF5reQFSpGs1JlCl/45m37w4Qf3ZhXW9bvpc/NBXr4pknY6c\n",
       "VAja5gXRmAAH4etIB7uGLbYrmz36pdQRijWyn6fhArT/ZcN5QP+Dsy36GKiCQia5wlh57AgW+giP\n",
       "vUQMekfpaT4mMC0tdr9jMOrGn0fgHUg7H26nwQFy7qDYxRE/rpgmchlb3cJMAIyAAHMVCiQAAAMA\n",
       "AAMAAAMAAAMAAAMAAAMAAAMAAAd1AAAAYUGaJGxDP/6eEAAADYya3JBw7X6/i8hVK1fvTmw43777\n",
       "p9yiLyUBLKfgBAJC4+jEcDLSYYUieK5ZW3qwWnI7zuhfLl9xxyRf1e0w9LKIArAEJE71yP3DDMg+\n",
       "rzgDvCdhkSMAAABSQZ5CeIX/AAADAgsnwDpndqmRYm+a71MVUGQBRfYkz23Bsdt14gBX4OLS6Pfb\n",
       "5q+nmN1du7pz4wdmrA+wL9y9wYKlLgUC3o/C6tIQN/ZLvxXF3QAAAB0BnmF0Qr8AAAMC15DIWvhL\n",
       "3X/DxbGn0hDnC2eFtAAAACMBnmNqQr8AAAMC117l8a/KYAA6mrEQ9YO1YEATbZQjUnQakQAAAFVB\n",
       "mmhJqEFomUwIZ//+nhAAAA19OVyAmly3dxyxO6fqt22M9so0Hz4+W69Rya9fio4lv28BGnrUgixO\n",
       "IOeFi/FUgCqBqXnMjcf59QRgRhhXHhXpBcPXAAAAH0GehkURLC//AAADAgs5nHeM6LqH+U5MJCUH\n",
       "4dqwVsEAAAAlAZ6ldEK/AAADAtaWxqSnZDeyEJk56Lt10FZRSDc6FvcXnF2CNwAAABIBnqdqQr8A\n",
       "AAMAO2ykiv6Ae0AAAAC0QZqsSahBbJlMCGf//p4QAAANiN2h8QAbZMgOVYZL1tw2ZzMI7tDGSGeV\n",
       "Kzcopdy4UP12TddjpT8fiYXFIxWviwma0zxezQ7ycB0e1c/g2KfCKZEE4leT4JHMhoQHH6ow4W7G\n",
       "oWTGY2AGuwtOYblwxwF0bqwP8S8xwRmykxekTaIviCrZs+zDJbeFfL4AqzdxI0osUgGzR8Smq5R3\n",
       "AOcD50FRF+c4Gbq5Hg3pd0oKNqLgNK6zAAAARkGeykUVLC//AAADAOf8aM/gDsV5avJ7b6aHMlC/\n",
       "pgBTicM+aAv7ZMIxa/rbXth0POK6y1A6XAu71aI2cjh1gnBvB0wNhd0AAAAfAZ7pdEK/AAADAT7J\n",
       "EnEB7rzkWoVw1gCF4jWfqYDegAAAACwBnutqQr8AAAMAiuu5e4vd1/RFl7dHyjdzQAmmRbyA6vzx\n",
       "hxuc29ZJ7gSDegAAANVBmvBJqEFsmUwIZ//+nhAAAA2IKMYAAAS1VBmgVp6sov1nekkNUR3sIJ/q\n",
       "Lt7+4LjO0F7CmJk95k0DCNumGTgTdp9Q0XsuNaE0L2WVBcpKz+mIbtW7rIUOupah8kntxZwMlGc2\n",
       "KfLRcXAe4hQAncTNl1+9d3G8uh46HOjgClLs9EabLqM9gKDK34PIKJwod//6bn4yKHx9DogXZqd7\n",
       "MQ2pG/EQ3zjskvUUoQPiTcR+IIFHyDFKje8dilrh5lapOfaaF1/2/WlS0pb0x/UdDxZlfRv3wUEA\n",
       "AABLQZ8ORRUsM/8AAAMBh/6vQArbGEZ6OvZwQQ3AA0CL7ydk0W7i1TekIke9fSGsy3xph1WpF7Bx\n",
       "rNV0aAlaZOaqGby+y57wkWen6Qb1AAAAHQGfLXRCvwAABko8GIgw0T805dJEoXBFDHoSkYRNAAAA\n",
       "LgGfL2pCvwAABkrDNDYTMZREqRSzq2z5XhP6/lIZXfBAkfvVuHfgSjNSVV94PWAAAADmQZs0SahB\n",
       "bJlMCGf//p4QAAANexzRgAc7bGuuS+Ogxf1P+BXEvF8T75qsQEhqq6bkwCZ6uHttKy5xRVqywd61\n",
       "/BzrhA9DXQ1D40Wg+sMgygod8WKvKmK+4VV2C2rcntmiYWvSKnxFG1999r36IA0bE8WbKXF9wzdN\n",
       "rzCrwtsc+jKenkes15v/hGhWAbjj+ao4IzxG3HCzy3+Q8/S6YaVHyo8gd1wb0IBB9A/GFDfH654s\n",
       "ym8HOGSfTMTvByZuSvBuNv6UAvmKf/0oNs+d5Z8DFXTRgmgTpH1mkrLbgIwJ8IZT9iGUh3wAAAA4\n",
       "QZ9SRRUsL/8AAAS3zfz5sD16VtbZEyc2OqZNSr7VrQH0UHg+IDcKWCxYuyWBlK9/6wI5KmNMRsEA\n",
       "AAAnAZ9xdEK/AAADAteQyEysj6yZSwwBW4u+065TcV6JqLQK+zNxH0RsAAAAHgGfc2pCvwAABknS\n",
       "2cy+yVPQ+/iAIVvunlBysXgZ8AAAAJJBm3hJqEFsmUwIZ//+nhAAAA2AkIH9ALDDE3klZ6Egapnx\n",
       "XEBV1c4/jKhE/jLt163gaEbnlq5b2stZeDt75bgtYFqtU0FT3+2DPp2q06+4c0CIZ5MiiWqASDnA\n",
       "VewrteZ/XRmqkikw4m3NQ0lkQ5GBrCnNhhb9MGs1Fe4fsQrBf/PWOivzkBI88oywiMOqKIr8wQAA\n",
       "ADxBn5ZFFSwv/wAABLfOCFbo24VFZbaLGR4MOAq1ACkgipIl5W9dS8QM4mRHka3SBq7VgFzsou6t\n",
       "6ogdh0wAAAAtAZ+1dEK/AAAGR/sEJlFXL9FV+cbPjYEF8EkBODb5JkDspY4lnRGesLeNpaYtAAAA\n",
       "NQGft2pCvwAABknTDMcWu7bCAEq6jouSm/rsAJflNrNTUO6dZCXXWjfR0vbBapwqw0F9JiNhAAAA\n",
       "q0GbvEmoQWyZTAhn//6eEAAADYAOXHx+4Bq7lNClLOO1nESPsrpHR6b+EPfj9LuRTHCTEyTssgTX\n",
       "/gg9BTmHhqPoikv8k7DkHikqgJGBSxN+sDRJrYkBdlr127LmvNO0MdcV5DXlU/Zy5N0koNAazFrF\n",
       "dYmbgH/eWOBHAVP7m7H9Zg6mEfJV26flE7KHFb1BCZGpcj74E9c8G0k1Woh9cRLzAJlLxQxv8BhD\n",
       "wAAAADxBn9pFFSwv/wAABLfOCFbTb4RyYB0PKgA/PGdrapEi7EJ1TszJNyReg1UoU+5dlbj1qVrm\n",
       "ZC0U1ulYjYEAAAAiAZ/5dEK/AAAGR/sEy0PQGvsNQ0AJv90gZkA2PFt5S0wDwgAAACoBn/tqQr8A\n",
       "AAZJ0wzHFuCT1hp+/0fuTcYJ++Gx/IAK6GIbCCqgHbDgLuEAAACpQZvgSahBbJlMCGf//p4QAAAN\n",
       "hPP9opAAoMomdguTI9JlHA8zq5ogRIarKKRyVTa5OUuEhk7Bbiaz4MP7oVft6slOtF+BPu6vIXxX\n",
       "qYRTedaKMWI4BI9Ti+Q6Byb9CdbV553ggrGEwcVzho7C02ta8LU9X541MNWVQHpK55TL3A/74Rew\n",
       "sPgkzoDaXhvbYafbt7juZaryWt1slXGQCNmLZRStc75CoUx7gQAAADpBnh5FFSwz/wAAAwN0w2Mj\n",
       "O46wIDX6hQk63/U9oBmabMaQedusljh+TDWLlkse1tewyr0KBeGBhjEbAAAAMgGePXRCvwAABkf7\n",
       "BMtD20hbz6r1SsT0HZbgwOSWPjQMIATTE8g9FmY0YBjuNrxHP3k7AAAAHQGeP2pCvwAABknS2cy+\n",
       "yVPQ+/ZTnMnpkJclQN6BAAAAukGaJEmoQWyZTAhn//6eEAAADYIJxRPQFUZgRAdAGVUiL9cOu7G4\n",
       "hSOYMBSyH9A5u4deNs9efJlOxdtN/1+Z0VG+YhFqPAABM8j3+dp6lwKQAKpZOF1zg/ce9JQzSUMP\n",
       "dxcTvnifb3rgdWvEFGuiS/K3XasfHnnJc4AUWrcVc9YAUxY5NPDDhtr4SN3ddUrAnbIOwD5LufNp\n",
       "ulH1+i4yHQwiDgPTeLboj+iwABh6UZjJZd7li8DsroGjoAAAAEBBnkJFFSwz/wAAAwN0w2MjkhvY\n",
       "/RIIAhttrugEaPIp3PaQOO/VEdk33YPL54MJW2eUugGAK6HKQaGedl5dTiphAAAAMAGeYXRCvwAA\n",
       "Bkf7BCX31qnhAyG2BoiOeM0DASfGr+pX7cLSf3HARK8hG0naW83FTAAAADsBnmNqQr8AAAZJ0wy7\n",
       "3w15mVqSeQl+VRXVFgXjBXKdK1JLLIA6WqEwFqdC2TcYbuqP/2LSDlib+fAaEQAAAI5BmmhJqEFs\n",
       "mUwIZ//+nhAAAA2Er2YtILNMiLfIvivicalH0HFjADdXXjbr8xsqjKwRXVi9M8tU7zegV/IbBMA+\n",
       "nCrUvG1AqoR6i2XvPb4Bh2In//v1DarHw6dqmkpIxvNKeshfe1ne8yLVXE9/1lb6v96ihx3JIYpk\n",
       "f+0CFJCfjMbH0ZmepGin8GohKW9RAAAALkGehkUVLDP/AAADA3TDYyL6xARLrDNMHtdkKFJE0J52\n",
       "1+r7D1UKFQ1/pHi3cRsAAAAuAZ6ldEK/AAAGR/sEzCTDo247ki0W6Tu9knGcUBTb+AAW6PO6j7z6\n",
       "zgWJ2anFTQAAACABnqdqQr8AAAZJ0wzHu/om/Gm0hvJCAGIpRKN+rSYi4AAAAKBBmqxJqEFsmUwI\n",
       "Z//+nhAAAA3fCc63bSQAr1vpnM/B5AEes3SW5FdUjQhI1jnyp2y7yMZqDqUUCdgkzt0F3uzMfkOf\n",
       "H25o03qDPC4LMKKTZWCL9O42EieSc48kZ4kXuwDtj6AoNpvA5jvk7z0peaKtRV1n2OQqA3a1Jsco\n",
       "VffV9PAOXW+rDOb0maCz203QSZmn79onmAwbCEn4jpcFKZn3AAAAMUGeykUVLDP/AAADA3TDYyL6\n",
       "tF2AvtwWQjBfU56ckMFcVLSJrWFrpTOv/pvpnltglYEAAAAoAZ7pdEK/AAAGR/sD6E1de1V6upy/\n",
       "gzTEbWkVoOuuzkobEmItA8ziBgAAADgBnutqQr8AAAZJ0wzHspJFbxoe5hDLhZotRAQAFvOO4QIT\n",
       "RObvTfsQPZvYtJIVo9ERXeZxIwBnwAAAALJBmvBJqEFsmUwIZ//+nhAAAA3K3OA8B/JDzuvx74eD\n",
       "FCr4s9uPnjx9h8W0klzoxVHZ5qqTWGcHmYMrZcE3sUYkFqczlKDPYcNM2BPQ6yVgY8lvGFfi+NCc\n",
       "vMRqNonBqWAMWvpAC0fZzCTSYgnlQdauZR+SuoxeKC2MVatrhjpnR61w8/Yc/6u1J+1XN1ntpxCi\n",
       "q5EEt0hetShhqqM1gKjOWqAa9UClq+InuXgLnokWo02hAAAARkGfDkUVLDP/AAADA3TDYyUqkp9n\n",
       "lE1uDc/hFMy/4FAJMAKn6On9sZeodWQ7fgCcbN/vyZ1Qk7rpBQGvwUeuJo2VJA1wsoEAAAAaAZ8t\n",
       "dEK/AAAGR/sEJ8kyIUpytOpdVgIyxl0AAAA2AZ8vakK/AAAGcdDMFwWGNB7JrzkIRD8AE3GKBTw4\n",
       "0XhqIUOEq9tuRDQ8HwF5ihuOXewQ/oyoAAAAnkGbNEmoQWyZTAhn//6eEAAADc2qao1APsW1173g\n",
       "ASpTnZr8HQ3eY+HlLwIvWMva+7lBJdxBwe4fyxqKjMEDYDH/W925vCRbq+yq/j0fPJ85xbVGVmAk\n",
       "TNc8iWmxUFdA/zCK07RitZp835DDPDDH5JekbzoP6h/VOL+fuXYMYClxyyzvoJ7ZT5jgsJI+rjCH\n",
       "TPnCI4lWXYtNMPZgXuBsAAAAN0GfUkUVLDP/AAADA3TDYyUn7BTMdFkLZqXx2CzMgBCqCkQrcKMP\n",
       "o/bs6R55/fytfjDjRTyyCXkAAAAxAZ9xdEK/AAAGb/ddxuqs0guChh3WQqsNW9vptd8wATrItgtP\n",
       "gl9zRg0eMr4jGE0GzAAAADEBn3NqQr8AAAZx0MwW2BsP5EAIEgvEe7WKAEjrFUMFTdBpu34MCZ0T\n",
       "hWOvpU9AfIgYAAAAjkGbeEmoQWyZTAhn//6eEAAADdCG048A1LPkKAQsI6PZteQjildAoo/NBXuh\n",
       "Jb4TKz4tduMqdLat9/jDwckTgRrs21MM+uDqCQAr+P2euxirB7Iz/JRlQHEShdzxd4WP2MwOHOx2\n",
       "FZluQUeElAzHagaBh9Tn508AA45Y+u7CAYyNRn8iDQV2BxfQanS6mVcAAABWQZ+WRRUsM/8AAAMD\n",
       "dMNjJSpxEkAFXREcIjjIUZ8c+3QHWiO+qoQ8GzBM+c6rEJ0MoYe0FrGkuNNqSkyNA8bAAAmhzogJ\n",
       "kcfXGtQOPmJoICnoHCGkQMAAAAAgAZ+1dEK/AAAGb/ddxiMMGFuNiwi30+j2ogv5ImMsRN0AAAA8\n",
       "AZ+3akK/AAAGcdDMFs5+BYoi9++FWWsphckACwf2pMr18YeRVyLOEYuUstFNWucEKbOPXO18vMst\n",
       "7weFAAAAgkGbvEmoQWyZTAhf//6MsAAADeUaWCAL6WgTHmYmYDYxmR/IrNEOXmk0qOGHb+VHEcSL\n",
       "9Mf/OTZdGRhJbxCf64u72LbHrqyK8eKO2BCX64lSD+8F3kwuQjnyOtnbnjMb58pNnazCO1zV9KLF\n",
       "0SvC65VCFRkLFp27M9j5WMxO/xMcRtcAAAA3QZ/aRRUsL/8AAAS3zghbVOvb4U4XFLACCH+m/z/L\n",
       "rQpcbTuKUt2ItfSkbbTLmEWPV3AGspAtoQAAADwBn/l0Qr8AAAZv913GIwx6odf/gTmr/wwpkE5b\n",
       "IpqXb5CBWG02AEtV6kNo8TgMbBL7J7DnuzaHS68wbMAAAAAvAZ/7akK/AAAGcdDMFjvsnM0h3u7l\n",
       "YVZVq8Ba0MS+gpWE8nnoy8LkWzq47W+GDFkAAACnQZvgSahBbJlMCGf//p4QAAANzaseO4AUGx4J\n",
       "VuhBQ0mm1MjeUGcjTNu4ys5d2dmXKf65kALDJ6hv8fHQOCpdP7QN6Tt5gUcHOJtAswjhaiFBnr7+\n",
       "VOK47UQvRdFqwkK42cbVXIN91VRLJ5JWIkp12xKfAB0TrRwZGYJ1FPryLF2KlEbucpyVRJi+7IbB\n",
       "V4kioqdce/80jv25YkkKoo/iS++2QextBTUAAAB8QZ4eRRUsM/8AAAMDilfQw92UHhTxePVWCWWH\n",
       "CfJBdFDELxILf7gYkUQNuYzTusseYC5/lnIU+tgx04v6GozPJ5aGPnEukOvrB6cI26xvXH97g9gk\n",
       "N0vxec/2K0RdgvB5G3tFCOEq50oLiDfw5QNVhwkOyrR9VpYsH0kQMAAAADYBnj10Qr8AAAZv913G\n",
       "0InYujKRB9Gct4RlkCvOZ8bXwPqCh/ugH075OGaCFsCvfE8wC4WgGzAAAAA7AZ4/akK/AAAGmdDK\n",
       "jlG/ZivhWdTf3dM2LdAXiKXWGBf0irSmxFpJs8umAQNkWL1rKaKBPEGKTJdg2YEAAACbQZokSahB\n",
       "bJlMCGf//p4QAAAONwnOgApfQc/2VwBbnCjxNZavsihxwGvhngSHsXBX3xln3tUkNcJm7L6RdOCk\n",
       "iX5DG1GkcRo/CHUeqqdDVFkyGeS+o1s6Ocx3iwPlGiGjS/6HdEBF5jnDkVKf1I6pKaTTnNnFW8N/\n",
       "3/o5O4iEFHZawtkXfpzZz0iJ5tKCJxqVEpS+yT+nZoM0ywwAAABLQZ5CRRUsM/8AAAMDicdCdxaB\n",
       "cyvzYgcU+gL0PFawvTuKCsnzOsgjOAOUCZvD9yguuTLy/pHlyHX6m5jKHzcV/PT25CS6ZfJrIIGB\n",
       "AAAANAGeYXRCvwAABpf3WhGsSOK7UW1pffXQ02DnJb8AE6yLlAnKEkQLXSxkT+vhNJ64x2+NIm4A\n",
       "AAAvAZ5jakK/AAAGcdDMFpPYKJIPVSenWTN+u1j614EeiWANPilfgnyjpZV+uN5AZUEAAAC6QZpo\n",
       "SahBbJlMCGf//p4QAAAOH4r0KwS3LLUsdqB4et1m0E/QYPoy9dL1AqdcVMnw6KXBxSx1UCAIvEjj\n",
       "/t1gmw5bkceegjKhmHWtqghfdn9mmjqXLo8gBUVVM5jpfYgXMei4ZSTWUzhMczcwEmNCAs8wUT5A\n",
       "MRyZrL7YgUbOxI8ygL+bdmI9JOO2/dTGyFu+Unlf4aCHpMzA94AEc618TQ1VsIlzXq0/G1VmHrC0\n",
       "mmvflzBOu59DVs7hAAAAUkGehkUVLDP/AAADA3TDYyVKj+cHbVfDnpnQ3FsaEtiACTqprl/RliOL\n",
       "Ka6pc+BfyYvLxW8pMhfy+zGzi17B5U/Nmxee2fcRDNpdCYGZ5k7YNmEAAAA4AZ6ldEK/AAAGb/dd\n",
       "xuzVG/IissR147DBBw6qhfFWB9SyzUelQAaiHV/eNjqKWrQsVXMsbypZBqUAAAA7AZ6nakK/AAAG\n",
       "cdDMG0PQw8/A/hXdGE92Lkh2IkyhL0Vb+YAFtEw5G3k4i+qIEiDelMro4OceU0HwCRgAAACVQZqs\n",
       "SahBbJlMCF///oywAAAOOsP0LgBCpdd9ihpKCx8Z2YBFZ+wvNj//8qhe0DWJm2B/rGDWfon1DGRK\n",
       "AjblSVJhdWr7cJ5jGqPNMvL+6Wt7lJd2DgHv7VDZtBKFDdJlUMWFtR1MliJeiI7w/aCsppzBJXtd\n",
       "Z+RVzGUQ2fqHGyZ4S7ktkF3fm2FgGgowRS5PiezIpy8AAAA+QZ7KRRUsM/8AAAMDdMNjJUr4tw77\n",
       "qR82vA+i9OytNtHqo3B4ugLO747IqAD7/kR7yX9Rl8T+gzIzbzoMEDEAAAA1AZ7pdEK/AAAGb/dd\n",
       "zg1yKzt90eKgAC61aV78vb0kgW104ce+6XYxrQJsS8H1HueGc+xS4W0AAAA4AZ7rakK/AAAGcdDM\n",
       "GzvVx07+fmjUba5yYkyaisGUQaVcaUsqAD8AmbAf0Gk+IQRMw4KwIcxIl4AAAABzQZrwSahBbJlM\n",
       "CGf//p4QAAAOKCWidEAEd0jd7Lum2BaKjmB7Afinyd8SnAqHNONfTRzzDNWLwNEfnv1hJbKFYvw+\n",
       "N096az1dVDfDpHsO4/ZDiYErOnd1uhHDchn3jiQWTwWaktTLoKCl0Jcr7hoDYOtUmQAAAD1Bnw5F\n",
       "FSwz/wAAAwN0w2MlOzPjles0q+KjiJz+Ck85r979cNaUofULMgAsxhYsVuEn813Kuecy99Lq3oGp\n",
       "AAAALAGfLXRCvwAABm/3Xc7SpIcfd7HW7q93CNembXgDeyvexTrkgF5Iq9AMdwNTAAAAKAGfL2pC\n",
       "vwAABnHQzBsDk7RAGMVSv2FcmOVoZ+JCUG9tNOTcAEGwakAAAACqQZs0SahBbJlMCGf//p4QAAAO\n",
       "Hb4+k+Yb+ICmiDieD/CgCK52a9tzt8oAXU/EjPo2jzhfenpgjpqwU9/XJ0nAoHqIfmLJWl1fDbbG\n",
       "Emt/8U9QOgUiwO+Nu6klyci8R2elikVZ4t5MURPH/l4YRaQUBtTpb5RSP7DCx1jiBUMpLiB6mBtj\n",
       "tlPR3iWWAN24oDirim8pME964VY9CS+0TZh/JDZK5d/vP7ZM1mQAAABdQZ9SRRUsM/8AAAMDdMNj\n",
       "JUr5IZlACeTXAAIg7PmCLszDMwplKTmzHL78/458XTU7SPFo8/B3MuBLCFcn7iuW0TRykNez2OHo\n",
       "Rye1I0QuSNrf+gda2jhq1hjA6IWBAAAAMgGfcXRCvwAABm/3Xc16ZcHe0s9EALOA13yE1vsUjQey\n",
       "2eVimPKsRPL0cnJhP3twygakAAAAPAGfc2pCvwAABnHQzBsDjkAY082UlMf+IBg5d1gAOSGJURmP\n",
       "pXPB8YIi/24ePxKH88AX7OtxpciKkjEiXgAAAJdBm3hJqEFsmUwIZ//+nhAAAA4fnZDKAIroc5iM\n",
       "qD7Z9I78nHt9ZoiLHOnFSU0Km5y0WeujvnWATMkwDRCI/wu+rNGWDGQ4aCkDXo6KcS+QbcCVkpIh\n",
       "jB8bw+snUtiaBGV6ClQTvlI+sAitAnGmvwiVJDpxZm8WAl0re/HHjL2nGxUn4sJJdpusP83Fcvef\n",
       "Sm2305NGId2BAAAAOkGflkUVLDP/AAADA3TDYyVLbGHYQrpxrZckxoC8Zb8F8dIZGQzhB8d0jG27\n",
       "FkcY4W1r5C3zeLv6CLgAAAApAZ+1dEK/AAAGb/ddzg20riuXXw7KFvOPRVBmfkuCiOCMVuDVLOHY\n",
       "u4EAAAArAZ+3akK/AAAGcdDMGivqe8yYq0HNZogUkkpaTKShxUV2B6RehFoYR14GBQAAAO1Bm7xJ\n",
       "qEFsmUwIX//+jLAAAA6ieZGVO5VYRABI+gCgBiTlX97ock3KrsaY533WWXeuIopdf+csNdxcv0+X\n",
       "ReveDzy9T406eME98JQT1wazmg7+YFcSV9nhvjpEQ2MYpxW//HNhjM7gCij0mQD/223tMOjHuVbY\n",
       "wji6Gr/N/zby1GijmHHcyZcMpUmCXAwaoKk1I1IDoxf9vJLkRduidCyaW5QAyuUAd8zZuZjrdBP0\n",
       "hJtZhvOLri4OZ8DhZPSKFpjmF4QAhzyKvqSwF4/avusp4THxjGKKsCDkUX9qLGjNPWrxUYqyYRej\n",
       "LyeyEBIAAABVQZ/aRRUsL/8AAAT7I6wy7vLKIHj51SZKhIA5hLJBX75V4jgbO0EiK36L7BKkPBcY\n",
       "HuuLeSZrZEnv/d+ar5fkSRy8Zs6IFxdGuki1IfFdL2hE/aRdwQAAADkBn/l0Qr8AAAZv913WzdJg\n",
       "yTd4aCbjFIvlmSWKG9zmOyX/m+lQfjpBgNm5tlh8fCyeGpJgbMz0GBAAAABDAZ/7akK/AAAGcdDM\n",
       "H4HEqZBAjfJYCNQAC60tFzgP3Dt3g0j+nbz04ICxyrBz9sgvArd28LEAVPAmdRpWgPicA8+IWQAA\n",
       "ALNBm+BJqEFsmUwIZ//+nhAAAA51C8zEjO4AACdJ0FRbz77BvDMCxe2c84R/lKYMFhYL3k9NcHWu\n",
       "tw9xtk+VEMxk0m29nEAsoDmkO+Lwd/hQLBAfQ3Jo23cVCYIk74712zCbmUg5nyZUW9XksQaTOms+\n",
       "6E/7ztvHexS+clUlsUuLfFIXmbvJB4vzmwhOIvHg+rsre7CBopgtQPrnlGUv3H4OigqyIwKwpIt3\n",
       "tiy0NYf55jveJQAAAHBBnh5FFSwv/wAABPsjrDLu8twHfjSpXkRO0Gbk1aEHPWGwECARNYq9D/EB\n",
       "hNLLh+vx6MO4Qzws7YgBLrMGlXLD+sHOGvsGkCE0pemqhOuH7OyKBh3cTHVSPA8MrD02qzb32Y6p\n",
       "OsDN6EnjxUzL38KmAAAAQwGePXRCvwAABm/3XdYNlDtjdfikVvlDuzaKQvoGPHhgDvzs1GgBKP1e\n",
       "G8ySdYcqTm/dIBw1RJAVxjDE1HXQK6STxQQAAABOAZ4/akK/AAAGcdDMH4HIKq5GFy/EAAbUcGZC\n",
       "os11KesZyX2arghUHSXJlmDBXRWuavNr4GfUfoY+0xEFHiABQ1pZkNk9k5vhysj+QM+BAAAAk0Ga\n",
       "JEmoQWyZTAhn//6eEAAADnea0STNEJZdb0n+IAoWKtYcQeJYGp1acVprUClb3SDY5YmHSBgV3SBL\n",
       "mixhrtfYwMi3CLc9WQbHJk5pBoxEDaXJyo6oUz+iDsgC3J8NyqoQk8mde+rcXnv9aqsS8dovqRqr\n",
       "Xu/BT4FeFVQmLHaWnsr5XJtjpXAvBSlf8qKpwiBdwAAAAFRBnkJFFSwz/wAAAwOgwYI2ZzdZkiCd\n",
       "2wDQIdTgABN7e76sPcyZt8eq9R/VdAoadCrsTbmOKyqZVRvUbH3TmNz3Eg/8Hx+9CoVP5HYDwcBC\n",
       "X8zgZ8EAAABFAZ5hdEK/AAAGb/dd1tKxobh8oGwAC1KTH2bhFFjdlBkohQhfAOVcEni5Y8yWRRZz\n",
       "fLOu51rZbCsrdlhfM2oDkBj5QM+AAAAANgGeY2pCvwAABnHQzB+DrLWLwtmZGpGw5egAF1bm/xLs\n",
       "L3NBMXSBrMX9atspow/LYHWSArwM+QAAAI9BmmhJqEFsmUwIZ//+nhAAAA7iUX1uYAuVUsEtr3U9\n",
       "YGyfjhMJZ5RFmZZ2bwMwvotRd/IPH57JVCL2oyJzEwWfh/WmxmFs1caJkZGDtk1ZWckgLbCVifOr\n",
       "stVxbeVN4m6NOBdLGor1ISo0ZPKyJgMGL0T5JyXeT9WnzoGigues4XiHrzcqq9F/28dJ2IEDcQAA\n",
       "AFVBnoZFFSwv/wAABUJ4Cct2jh+jtnlOQsN1KrmjIsyrzQLuOcdqgOeMAFZ5I8Iiac64l0hNNzUu\n",
       "cEMlPZx/mF2TfzTQhbmYCy3pF4sZLGd19MlEQGfBAAAANwGepXRCvwAABm/3XdbMOvXBbs0W/OhA\n",
       "23wALui5vmDkgkgU6mGictoufaujs1KHy8jLb3VgM+EAAAA7AZ6nakK/AAAHFZJXwG9eAVDd9Ayd\n",
       "pWeV+yYXizK3oSvb2mpguIAFHp2gHCDNCZiOkF21fxR/bO6XwZ8AAABjQZqsSahBbJlMCF///oyw\n",
       "AAAO7pYr4ADr57V9TMvSb/Xa3mIUybDSztsEknX8XazH84d/ASMv/fIegMGgxFq73PG72iB169Jz\n",
       "qVu9NQV6WsCCvYWxn29tWLXesBidPXFEor58AAAARUGeykUVLC//AAAFQyJ9ykQ2/9yAVrAWsgR2\n",
       "8WAAGkc0rzpA7mhQqkbG61WIivRJtJG6qKdqxlKx5pa6P0rCUU0hRBXB9wAAAEgBnul0Qr8AAAcT\n",
       "fWAG5dLDDdt3jjdwmLa5gCFFL6FsJN2W6nSSql1FfZPF2hzlGERiKNPPsC4OHQZoTCcbRAl6kCYr\n",
       "R5AQ2oAAAABOAZ7rakK/AAAHFZJXwG9gd8LODNlySCYaUFabgmr8OOagBI6bjtDxxsmu0gtDA0Nn\n",
       "s+hswfQ5ycAT6U/6ohYC/72KOx4uAoLY+XlEqCygAAAAwkGa8EmoQWyZTAhf//6MsAAADuREZ1fV\n",
       "EKgC/3EJZX7n5eYH0q/SDnJONAbcnCJZ0rrualvAxNRN2hZIz/7uxZ+wkMOgjda3U0Dhux3jIMjN\n",
       "zbcHyrZ1b8Ua9ny1wEk3jr3ihKTZJnelzWvcFnfyH9OwSd47/4VY3uuHjbBolAB/K1nu+E4tDiNZ\n",
       "D+m/IMuS2u6XRov37EB/eRoMTFCQL0DXNrhakT2T0D4xaB542EJYAdFl1bpbR7kGK4xJiV4z/bOB\n",
       "AAAAVkGfDkUVLDP/AAADA8zBAg1tXWdXDPRSzwtKBvxSwH9+Yr8tRcT3UmwAiEeopkK/GanGik4i\n",
       "4ACD9+eaiS8UvKiz87oKG8uBX+qPDjl2e02jgujGEEfBAAAAMgGfLXRCvwAABxN9YAbl0sMXK7aW\n",
       "tDqOIpyeELrvFrcZ3/jBRISvWf5UfvZBfbYfpcGVAAAAOAGfL2pCvwAABxWSV8BvYBTTFrxepwZy\n",
       "99SQBQ3PNXyp6hEiSO4+nArIRO8SAlMEypJ2bj5YxFFBAAAArUGbNEmoQWyZTAhn//6eEAAADyek\n",
       "KQmoBqz5a8B5uqWUcT0pOHVn4qF+Wguwo1tXfgbMEe9stI1719aLaC9j37Whdohfr54JLcj+gW7Z\n",
       "RtN/fWh1V38sBBngGOY66i3Lo+6J+SqRiO530n7uZ4/QPO4vDmraluDpwckHUZU1r6IqryjWRuut\n",
       "q74Qpv2iEyaUDz1buUfQt7uxy9T97i17uIS6uZCKCJgU0hS4o0NgAAAAVkGfUkUVLC//AAAFQyJ9\n",
       "ykQ2/+f9KGi5cdtn9eFUKtABKKD8A0frxPj3zqAEsdgC9j8NfEnwe2vlDQUmyaVScxv7H5upL9ta\n",
       "cwabeGNK8AOCG3uElAk5AAAAQgGfcXRCvwAABxN9YAbl0HsjQwN+r4diBwU6zoy3kIih3L/GRACz\n",
       "dpGMx7FU62LQ9Fs22lX0ulHdUMqiH04L/uAd0AAAAE8Bn3NqQr8AAAcVklfAb2Hq1C1tW7JybCzt\n",
       "dKf9mTirdSHufGSyUWUyHF5K7CLfdKngAL69USmWoW6pAC1b+Xec3O2HpYdaCZYaVV/cKAPSAAAA\n",
       "xUGbeEmoQWyZTAhn//6eEAAADyekC/pgA6QnqHiZp+9xuZLitWkgh0+za4lb7Jv4WjhlMFM5/iW1\n",
       "B2SQjvwkNEKQQqhGsOEIr0KUAiy4ND3E4xuLfonmV+8du1wY4dtfSnqfcHJZDDwQBfsSPZpFqjK+\n",
       "YCIa5bKLKiM/+WkVLOSgkU9Ej1kgvcEBUP8fHKTJ+0tr+VnID5ecPrHVOqf2HN7/B8BPyuCIk/La\n",
       "y9nfSAExoGTOPNhzXEoDhpD6YM0gd5/lhb09AAAAWEGflkUVLC//AAAFQyJ9ykQ2/+gubN63eTPr\n",
       "a4WewAt2quOfNsNmL7s01+7gTTAOzNYntK9ku8CeG1PKy99M5P9qDDsl6eylY7706wzMmqslJ8a9\n",
       "TFoVEW0AAABAAZ+1dEK/AAAHE31gBuXX2QfXk9iEFW3L9agrm2gBLaOtWV13T50gxaAZ7nv9V2eZ\n",
       "VsZe54T6gRq/8VjuiMEGLQAAAEQBn7dqQr8AAAcVklfAb2HuLPLo2C6wTAvp75QlQVYeRaBDAE+r\n",
       "tTem/3hEALfnVT1w2kDtIOV7e54Xj8YW3Kg9A30RbQAAAJJBm7xJqEFsmUwIZ//+nhAAAA8npL8S\n",
       "AAiwMwfqEXVvPxKX7u8AbbkG+d+VRju6FK3EzcZULlfNCItQBFV0otnpf9Z1cyswMlu0a4nlNXLK\n",
       "8z/QLs7q8hCnv47fMX2cnj/Rn7Tm8rPO8ePv83XYxA7lvrjmkLcDKhodblVPhSNP++CtifcCH0Og\n",
       "U3OuC6sAcyFjeAAAAGVBn9pFFSwz/wAAAwPLx0J3K4ZcyDoBxGFXkdhhQ+2iceFGXZRAB58HPw7D\n",
       "ZzpX3GKxPyC4sJm70Mls++imhufh9xt/Rk0+HciJzKci/1/cvvQMFYsrJGoOER89O52Ik7tcv6Eh\n",
       "SQAAAC4Bn/l0Qr8AAAcTfWAG5dfZB97ayIaAEor3GY8Ok1NCCfOgsmuxdHjT3OgokBiwAAAALgGf\n",
       "+2pCvwAABunVew+Xn/+O41MRkyWqdsDs2LlACUVVK3lFc9K6LRjt1wV2AqcAAACEQZvgSahBbJlM\n",
       "CF///oywAAAPnphGrmPrMfGB7bouvETj3mpH090oVP/wwgwnJdIhRq9WP/YetRoijSVOsc0JUTSe\n",
       "uVKB5QAHIllVkLdnoIyR2akhs9uUOKWD2eWRhJ7kzPosBHXCdHHmTU8uZZ6xqYzVTGv9kSV6cSAR\n",
       "Qye4mxg2wzJBAAAAMUGeHkUVLDP/AAADA7bBAiiiIQMEe8vvtrtUfSX6Gt9Of+6njLm4q/xjgBF5\n",
       "UvsEAtoAAABBAZ49dEK/AAAG5/3b9HunV+Mb7EtWYyp3zD7QAC60USl3AJ0aOwC46sf00Ty95JBu\n",
       "UNK7+QBVASxYQw6/W/FYTcAAAAAyAZ4/akK/AAAG6dV7D5eih/EC0fEXlJ7lCbBa9S0L+JVW1J8Y\n",
       "kZGFKNpQVWIkDfmLg7sAAABxQZokSahBbJlMCGf//p4QAAAPgp0wefQBHgAAmhAcKv3oDhuPPap0\n",
       "VzW8yJn7nG8+fSeNN2H43y93w+wvDyEKOuioKwF9Xg9Rvl4Tfl8jUNYNpMXU503ziykXiig92R0T\n",
       "r3oe6YCpaklmjGxO8syAW8MAAABUQZ5CRRUsM/8AAAMDtsECKKIhAv74ja8cW9cOy7mOlAEcbNaC\n",
       "IW6aNLZPQdOEO+Q39hyEthjYzk7lkktdAKZfwhCh3YLSg7eRH7JDzDOhWwOAoAK3AAAAUQGeYXRC\n",
       "vwAABuf92/R7p0rfsky2VAE2ZELOeCyt/zGTCqmzgwQ9znEXleKe3Ge8C51MTZF+EA5sek0Kfkop\n",
       "R4xLk44OgTPKJZNwfwVQTHwK+AAAAF4BnmNqQr8AAAbp1XsPl6KHcOQ7E0/OcJ2WUO8BIHlpX9pu\n",
       "F/JXPoqRtKNPX3Xe6zboMbt7ycM4LYaHZJzEd4UANb3xaFRdfLcyEiNjsPEtU4zfdwMTZSYgwv9E\n",
       "QBdxAAAAsEGaaEmoQWyZTAhn//6eEAAAD9eowfwXXcnAIBqgABNCDJvkG4Oz/DsCYomzLPvt5UHk\n",
       "Q3V78QcLX5yyHVp60FDoZ/GoGfl5r2jeWsl+oId+QDTRPHzyvp8CNXlQ6KZ2f/PCj21ewPlxqT5m\n",
       "CBzZ1jkwT+zmaQMHW3V5OC6Q3XzGw/76dR0SmrO19LmDmpxsN5US+nOaIpm8y/NrLiow48QfF45h\n",
       "dUa/68sG+64O3BWBAAAAWEGehkUVLC//AAAFHyJ+JJ7YYIL8Huy6B47tMFE2427kDqx54AGQUC0V\n",
       "dgQu49W0XZpMmArSC7/ygqFVypd86opYqUr+hI/MHU21WbnpzOGFk3uZiwBZCykAAABTAZ6ldEK/\n",
       "AAAG5/3b9HvvRb/i7ltVMPFZ2ZSda2RQGme5TLt5RfuAQjPzMZaLWiqmFlRh7GvTxXJwAmLvbjK0\n",
       "LLZZVTedgjeLAyK3l2k3d9eAoIEAAABGAZ6nakK/AAAG6dV7D5e+h/DFwlWfsKx1lcMTa+pYBqPg\n",
       "qoO/dkoVjyKetFC3wpWXRLnUUgdAAB2nuVly4/bbJT9IDXAGLAAAAOBBmqxJqEFsmUwIX//+jLAA\n",
       "ABCUrdOzSy1AvtRuKoAD55CeB9/zmWHALF+ToNxoCPt5J/QYxbGWiROLzZxXUvmP7r4a/L73dJC2\n",
       "jRMvq7EzPAN5vlqxDk4I3u6Ogl/H+AnwFxJD+n60GEGLJjmBlZObsIJ5/Nuf0wOBr/OZFi+l+VoK\n",
       "O6ciWFHNE7C+ijKCii8ddk/q8dUC5XgczgK2h54h3Zv3VePT14pImg2MhjO+d4rqSp4etv24Eoox\n",
       "/jEfxNAB81R+yYbWs67HOGn5KgKpX36XxeELj5U6H4Bpn+inoAAAAFJBnspFFSwv/wAABR8ifiSe\n",
       "2GIDVc2rCJ4QPlkWjoj3r2Hf2vfnsHj1GTz8VovEqeYBYSHD06QMDLjLk08qwANsN9CD3t+tMP7r\n",
       "ryrYJResAGfBAAAASgGe6XRCvwAABuf92/R785key0hRVgMwT9M+ABZ5Vs8JaqcAeErb8xZZgot6\n",
       "fIBTs5uxc831FscCmcvA6rCvTjsqSKG+6JI0AFlAAAAANwGe62pCvwAABunVew+X2f+QqDFFBig+\n",
       "EHbxmBrgVjgBuzb13wcijMwkUD9KyBtFNXszoRoAoIAAAADQQZrvSahBbJlMCF///oywAAAQgGC6\n",
       "dAGykglW2+CAVx+WjG+KcrKDjNJ4V6q6qLg6wP82dd8ekZvOCPu7/TfMnqFEED1SJ1Bbt6xqUxph\n",
       "0/+QWfN+cz57wWR/B6bRl14OMY4UFhurLLvZV30B0Iwayg9rtgi3n1dh36yKafQuIikr58PnHWuO\n",
       "/T354Dv4jjBqfltj2VfzySAtzajX3BkzPJKyE1n703DxoAwgbiKD5PGFbGUOU24YjTvyooF8PWBJ\n",
       "OOpe+nu0trAotRu1Tv8I4QAAAEpBnw1FFSwv/wAABR8ifiSe2GJHumc+/sl2yQBEqPRCvMqrEB0U\n",
       "io9pK/oD4RsmuchtK0qUn9TZfvUL9y6GEqcvKcvuXsxNtH4ScQAAADwBny5qQr8AAAbp1XsPl9Tl\n",
       "dKsloNlHkCEOuPrR/ovbRc791qFbNAj4jmfrbX1LPwIJmdZ3KtpsqgD4PSEAAABxQZsxSahBbJlM\n",
       "FEwv//6MsAAAEIBX3PgEbR6EcbHpGulbjAUqNcJonl8e83oRggjLOz5fubcQVBGhCUSB1zWGvlbv\n",
       "aqIZXGVvJM9gB55d8mgbcX8buhNF5aXHvbqo+/BF35rvAiCRNTtQAU6zbBMuO9AAAABtAZ9QakK/\n",
       "AAAG6sKfnoz3o5o3pJFIGWCmY9EZirIAaldZ6akabXwK3/9/0CvDeAOVliOz324nFn8uwyX3v8NI\n",
       "qAi5fRpOqN/jI/nrAhOSbNtIGJQuunumzUFwtudXui+tC5KfTYi7V75HBtADrgAAAI9Bm1VJ4QpS\n",
       "ZTAhn/6eEAAAENouGWaL5RgF24cBFfkKD7u67UFEIGuQ5VIMQY9JnUKWrbptCfb9fvCSvZK/G/Qx\n",
       "1xXoFtXNZEKKJoTxTqCoaIZXyr5Cm/g2vsBKCSEz/dPylY04wXc1f8CILVygUc4bCrG3tuSu6ucc\n",
       "gewxpfWGZ+48/vL/ZgDa+3vvhdKvMwAAAD1Bn3NFNEwv/wAABR7VdPAHVevYOaRA8hUQK7aoZPst\n",
       "g/RjgCrJlwADddO+ZrMvLXkjVOwt879czgq4VAIOAAAAVAGfknRCvwAABuf92/R8kL1xOlaTwxmG\n",
       "YxapXK4UgkPejAYIhfaKubFNrgg0OaYnJZeWF3bdEimWj2WGxdV6DEjIucu4DTdEg4j/6B60ErnX\n",
       "AAB0wAAAAFUBn5RqQr8AAAbp1XsPl/giJcqxoa52M8JNIkPo+AN0qL7/ld9PFXeU9KTQfMuCZ1AF\n",
       "pojogoNfrUCJQxfTPk7SDFbNzx2ECNI3kPBPNUYpMPFsAMWBAAAAs0GbmUmoQWiZTAhf//6MsAAA\n",
       "EXygG8PedAqN8q+fjaK/MWbExrkz2+SxPGJYhkv185Fx/bnIQ+xz/0mRShBSrngsVoVes6tGGjLB\n",
       "0ZfM72UaM4kQIS62x+00XhRlxMpGOYFz1Z2bTNEO9UOhiuvy/cOHP73brN9sSc/pZt80ojCzjRkR\n",
       "ijBPbnZewTgrDgxTFR9jeenQfSzKUnkcQA8Kj3rerqOIoICfqTuPG1BSrq5fbUenAAAAU0Gft0UR\n",
       "LC//AAAF+U/gc8psHUKNaWCsACYesp4zBkg20v1AfeIqVRqBnXNqKL9UQ6XkhLiy7m7iNfE3PJ3Q\n",
       "R1Jg12cvC3KSANmvk2oC4kulgAh5AAAASQGf1nRCvwAABuf92/R8gnuR3ERTksveRsOuGoNxIhAC\n",
       "38R/gY9uytjFISCwYV2Wi6y8dNk0KpYSDzmnB3t9tqFOdk1M8QMAXEEAAABeAZ/YakK/AAAH8Zcb\n",
       "PlHk93OrRMvMAotyz3NN+Iu2OSsOdX5K2oGzZisqKeGDQLOgADsgLCxr5FaLhetKO6gEi65z5xYZ\n",
       "RxVerAcq6X6ofHD3X9IJRZpWMtjsYYBiwAAAANJBm91JqEFsmUwIX//+jLAAABF8xAXguHX5bRtK\n",
       "iokSQTYQBTmYHrZCQ30lNA61VWXHnKZN5oeRPQnYL2+Zoc9Fvf9nzUMm5wezXlwyH6Qy0Au1owD6\n",
       "N1xX97jniVBIH7Tnmp1dzWA9/BMpBziib6EpyKiDTNA7eTRul0nfO+KJ75zrCafR9IvR4mbSGr4W\n",
       "Y4nqGTwWfbfcjreegXhKISWRbcEmK9270bNvuex6UriDw3amvaUscaxMfb77ihvr8lgsx5WcwNRK\n",
       "MA1alFPKy7Mw+PsAAABQQZ/7RRUsL/8AAAX6I3PJd8fTAUKL/FmwD0iBOcWErF2xlyzJag/dB3Lq\n",
       "E8FajESZAmXL7kig8TMJOu3TC8mAAkNNRdiOOD9aFHEh/zZgBeQAAABhAZ4adEK/AAAH74MXXvkS\n",
       "cx1PKsS32+1CgNoLK9xgWj9yTc/8oFl4NkJz8ik1E0vbIyCQAOh9/a2eE5xnuryrB5f//lylZ2ve\n",
       "/CsEgORIqsJHgPBsj5NWvXNc9cslocQBHwAAAEUBnhxqQr8AAAfxlxs+UeT3WTLK1lVWYNgfo0tv\n",
       "gYN6FACnHcAFhWnXLpzuFdCSAOlYmoJp58Jff0zN2USQN4UANMQASMEAAADHQZofSahBbJlMFEwv\n",
       "//6MsAAAEgBbils2uggHF/HcAGMYB9agj9IBSShxHeYp8rQ0hy8N9s3WsSqz0ZOCBCTQy/Knoqvv\n",
       "oPlFujMdSXnAiX0FFVmVhLMhAJ1HDkLgZJQrsvQCXbAerM0VsY0GA9NqHSrtrwtJJCE4f93fPTFt\n",
       "zS56sjGMjqStv1qQ01jwVEZ6I0AK6+6ApxTEaVsgo8LL3URECTPk6VwuF6Mc3lzmOMQrnYxwheuo\n",
       "m89u3TlF9nmfCyD96yO/QAAAAEcBnj5qQr8AAAfyvdlzgks28qvvCO/PM8bhstGWweUDj7sRpAaU\n",
       "92bPj6ZJSH9wACc7yNC4g54vM1Je7/qkx7oSTa2lKwAMqAAAALxBmiNJ4QpSZTAhf/6MsAAAEgQs\n",
       "qEUJ4xhTh9i/ZKQZj+/gAOUNOrD4L52FlWXWoJW3/KpDsaonxDk711SO6H9a/hMsV6GIQNzfZK0Y\n",
       "fRDOi1KXD4KaGz+MWHk6l5wp1IFwABkCwmVET90UMoj7uDdib/R0sqs9X5tLntrfuqUE8ymdVwZs\n",
       "bJv3QKRAl25wdHoqO9kKXJIQd+lbznE2Vvhay8LRq7G5fPBtcSF/ybSwNYIKhmzxnVIKAneKjQAA\n",
       "AEhBnkFFNEwv/wAABfnGV/KyY+kCf7X9vMZY84IlQvLyvHNVmWk5ffs9q4T7pDLHUO3wyyCOtTwY\n",
       "XUDw4HwKw/80rjmHca7AB0wAAABHAZ5gdEK/AAAH74MXXvkSd3vhz6qeVwOWVwq4owsIb3Iy6Cpp\n",
       "xe9cNecGSmFfBx8lluRzyy9aAAH84v2WRUgHABsdCSNqBqUAAABIAZ5iakK/AAAH8ZcbPlHk+aNG\n",
       "C6vXnqPBtKfmHca1nCFMxzhfhZefVl/ggc0ovQSeHi4AAc5GDO3/W9Prj5ayn+WxECdDAC2gAAAA\n",
       "skGaZ0moQWiZTAhf//6MsAAAEnyTb4OMRNhqWlnjZ8NaIcyAKfuvhBw+a6GE62hwifqCKnxmPn1S\n",
       "xXJYMaRieffS9OfrKfXS9RdevLXUa+lo+AsNluQzgzo4l3QCMZkXBevZqrm1AK7bqSUvnNDkEC2t\n",
       "fmv5MjXdGtWVURvpVYSTXyRvVIZVeqDelxZHDzEfOXjshlEo0wX4lxYyT35h6YokH+gZmHI22a/J\n",
       "IPsQ8TzGVvEAAABbQZ6FRREsL/8AAAX6I3PJd8fTAUvYOTNVSMhxNOonsrh3fkNN3xrwlwJxu2sr\n",
       "TTA9V2ain538OZVvPIdqUfpWM4aOM5snXW9EftgtLGiNC/qoRuyXtiKLMAANmQAAADYBnqR0Qr8A\n",
       "AAfvgxde+RJ/XQmYjdqGs+QTCAsGQnXhsdmF5WUEugKtn9ZPnmKm2QK3kTzIAccAAABPAZ6makK/\n",
       "AAAH8ZcbPlHk+8yxqQAt5UHvDAIkAQlfyB4Ni+f0etDT49QQYOzhXdOP62qFfzglN5wlt7GlUvcD\n",
       "4APDOSXLwVgTpT/ySaAz4QAAAJdBmqpJqEFsmUwIX//+jLAAABMUrmero7PJui0ypwBeevFqmTtP\n",
       "bNziH1LpwlHt1wnv8qeZfTd6/zHa7AsS5JEdWiMSBRrp6Z08M7G7YgLXxFsxh26nDDbWllT7l1q7\n",
       "V8sAJHfpzzdXvGOoryS2O0vbxtgNjgIoJ27KRWjpnoYI9wdyXNWBy4yVg9at2ThhG7Axnp4kAVxY\n",
       "AAAANEGeyEUVLC//AAAF+iNzyXfH0wFRTDOfeFyNJL+2XOIFGtUAWH6Qk0LcgC+3Uy9eCY4AccAA\n",
       "AABsAZ7pakK/AAAIrsT2Nn4IFCosysGEN4FhyNIuWo98g373mpBsRJXSPMruk1DEXx0B26AKG0/p\n",
       "VtQq9YIRauAM8y8/95CmEiQb8U/b7fkHiqrJo2i62jRUEUYqZYftgz9aGxNiVusrURVbIBWxAAAA\n",
       "o0Ga7UmoQWyZTAhf//6MsAAAE4yBJB9vqMA+d8BzMDswYr/iene84DRfn7Er+Pwr0ocu9m87oBOf\n",
       "opmeXcnGHpialJtC7J6JzlmboSTuqjKZw7soetu7wJSBKgmqfyi445+ZOIqx3L8l6sBbzSFJ3lfV\n",
       "rQU8ih0jc1HH3eyFBBKawSkTTMgxsrI5iv1SMHWznyi8Zt1HZoMUpYrS58AgmNrFwzEAAABPQZ8L\n",
       "RRUsL/8AAAZwOM5Qa05fPLx0mPXBCHD+fCLU+mEAN2T92HLdNoD5ynAe10nUkkxg+PtU+EYLwUE0\n",
       "bUJzOciDw0EaWY6MK8Ww8BgBZwAAAE0BnyxqQr8AAAfxlxs+UeUAWw0qgN+N0MVaNT0d9MJMkgIQ\n",
       "ImyBAWM3vUB+ZVZiY542JsFfngBZJYt1JwB94LYKsgxwxvWecSoMdPQOmQAAAFNBmzFJqEFsmUwI\n",
       "d//+qZYAAAMCgaV4Id9iN/F+GPGbq1/WaWLuToO3gRc0rYTDJe62WdYUtCj/zrdQsIyR8kCfxNvC\n",
       "SjYcNjOpxpNB6TCfaLv6QQAAAGRBn09FFSwv/wAABpojjPLdsH42fmmRFnr6zpO6SX2BDPTS5DGY\n",
       "i8gAtT2U8jT0fVVjtuKCG+LvxHUGhUAQ0ldFhGd6iuEa/rkrOLNjHoe+/7LSV1uA85ahlwL5mQ+1\n",
       "/TJPAAwJAAAAVQGfbnRCvwAAB++DF175Eo4Hv7dhLp5gy83YGEL+qml0FNStCGDKQ2yA4pZ/YHFc\n",
       "LxHCR+DBQl8yAjRC3yAGjBMlsxuReboah9Q0H7aODtD3laTgBiwAAABRAZ9wakK/AAAH8ZcbPlHl\n",
       "AHd7VBMXwnPfwDFkW3Ml1NHGS+n4qa5sFb2ATdktiF69/AYIm3H6GKJTjowok9IV04cOTcIby+CT\n",
       "ljapQJTUwBDwAAAASEGbdUmoQWyZTAhn//6eEAAAE2+LFqmlvuMpNXFt1+srrlU+bwD+n4iSIJ6g\n",
       "A/agS3aAjjnPusqTctPt7wRY1OrPT4RaGWlocQAAAE9Bn5NFFSwz/wAABNdeKmTkdNpOr1HJ4tkl\n",
       "s4tlExv79glM51k2mBnFwAK+REQ8nl1Lxx7NHv/usBCrfQAmMuFl3HsUFl2xpQdEud7wALaAAAAA\n",
       "QgGfsnRCvwAAB++DF175Eo/vMBfv1XURAC38KU4SKrDpAx0i19eyBxLnUGXe9AE/8i25mIkPq+WP\n",
       "jVGjy8Iw+4ADAgAAAD0Bn7RqQr8AAAfxlxs+UeUAwN+wPcPvvCgC2a3N/kYIgZi1vCAdJhfd4wkr\n",
       "lg+cRMrVzty7a2GQZLlq4AXlAAAAMUGbtkmoQWyZTAhX//44QAAABnfUi0+sqNBEo3HQBvazsDqb\n",
       "AHqpXMGJmeO2k1b3woIAAAuvbW9vdgAAAGxtdmhkAAAAAAAAAAAAAAAAAAAD6AAAI74AAQAAAQAA\n",
       "AAAAAAAAAAAAAAEAAAAAAAAAAAAAAAAAAAABAAAAAAAAAAAAAAAAAABAAAAAAAAAAAAAAAAAAAAA\n",
       "AAAAAAAAAAAAAAAAAAAAAgAACtp0cmFrAAAAXHRraGQAAAADAAAAAAAAAAAAAAABAAAAAAAAI74A\n",
       "AAAAAAAAAAAAAAAAAAAAAAEAAAAAAAAAAAAAAAAAAAABAAAAAAAAAAAAAAAAAABAAAAAAfQAAAH0\n",
       "AAAAAAAkZWR0cwAAABxlbHN0AAAAAAAAAAEAACO+AAAEAAABAAAAAApSbWRpYQAAACBtZGhkAAAA\n",
       "AAAAAAAAAAAAAAAoAAABbgBVxAAAAAAALWhkbHIAAAAAAAAAAHZpZGUAAAAAAAAAAAAAAABWaWRl\n",
       "b0hhbmRsZXIAAAAJ/W1pbmYAAAAUdm1oZAAAAAEAAAAAAAAAAAAAACRkaW5mAAAAHGRyZWYAAAAA\n",
       "AAAAAQAAAAx1cmwgAAAAAQAACb1zdGJsAAAAuXN0c2QAAAAAAAAAAQAAAKlhdmMxAAAAAAAAAAEA\n",
       "AAAAAAAAAAAAAAAAAAAAAfQB9ABIAAAASAAAAAAAAAABAAAAAAAAAAAAAAAAAAAAAAAAAAAAAAAA\n",
       "AAAAAAAAAAAAGP//AAAAN2F2Y0MBZAAe/+EAGmdkAB6s2UCAEHnnhAAAAwAEAAADAKA8WLZYAQAG\n",
       "aOvjyyLA/fj4AAAAABx1dWlka2hA8l8kT8W6OaUbzwMj8wAAAAAAAAAYc3R0cwAAAAAAAAABAAAA\n",
       "twAAAgAAAAAUc3RzcwAAAAAAAAABAAAAAQAABbBjdHRzAAAAAAAAALQAAAABAAAEAAAAAAEAAAoA\n",
       "AAAAAQAABAAAAAABAAAAAAAAAAEAAAIAAAAAAQAACgAAAAABAAAEAAAAAAEAAAAAAAAAAQAAAgAA\n",
       "AAABAAAKAAAAAAEAAAQAAAAAAQAAAAAAAAABAAACAAAAAAEAAAoAAAAAAQAABAAAAAABAAAAAAAA\n",
       "AAEAAAIAAAAAAQAACgAAAAABAAAEAAAAAAEAAAAAAAAAAQAAAgAAAAABAAAKAAAAAAEAAAQAAAAA\n",
       "AQAAAAAAAAABAAACAAAAAAEAAAoAAAAAAQAABAAAAAABAAAAAAAAAAEAAAIAAAAAAQAACgAAAAAB\n",
       "AAAEAAAAAAEAAAAAAAAAAQAAAgAAAAABAAAKAAAAAAEAAAQAAAAAAQAAAAAAAAABAAACAAAAAAEA\n",
       "AAoAAAAAAQAABAAAAAABAAAAAAAAAAEAAAIAAAAAAQAACgAAAAABAAAEAAAAAAEAAAAAAAAAAQAA\n",
       "AgAAAAABAAAKAAAAAAEAAAQAAAAAAQAAAAAAAAABAAACAAAAAAEAAAoAAAAAAQAABAAAAAABAAAA\n",
       "AAAAAAEAAAIAAAAAAQAACgAAAAABAAAEAAAAAAEAAAAAAAAAAQAAAgAAAAABAAAKAAAAAAEAAAQA\n",
       "AAAAAQAAAAAAAAABAAACAAAAAAEAAAoAAAAAAQAABAAAAAABAAAAAAAAAAEAAAIAAAAAAQAACgAA\n",
       "AAABAAAEAAAAAAEAAAAAAAAAAQAAAgAAAAABAAAKAAAAAAEAAAQAAAAAAQAAAAAAAAABAAACAAAA\n",
       "AAEAAAoAAAAAAQAABAAAAAABAAAAAAAAAAEAAAIAAAAAAQAACgAAAAABAAAEAAAAAAEAAAAAAAAA\n",
       "AQAAAgAAAAABAAAKAAAAAAEAAAQAAAAAAQAAAAAAAAABAAACAAAAAAEAAAoAAAAAAQAABAAAAAAB\n",
       "AAAAAAAAAAEAAAIAAAAAAQAACgAAAAABAAAEAAAAAAEAAAAAAAAAAQAAAgAAAAABAAAKAAAAAAEA\n",
       "AAQAAAAAAQAAAAAAAAABAAACAAAAAAEAAAoAAAAAAQAABAAAAAABAAAAAAAAAAEAAAIAAAAAAQAA\n",
       "CgAAAAABAAAEAAAAAAEAAAAAAAAAAQAAAgAAAAABAAAKAAAAAAEAAAQAAAAAAQAAAAAAAAABAAAC\n",
       "AAAAAAEAAAoAAAAAAQAABAAAAAABAAAAAAAAAAEAAAIAAAAAAQAACgAAAAABAAAEAAAAAAEAAAAA\n",
       "AAAAAQAAAgAAAAABAAAKAAAAAAEAAAQAAAAAAQAAAAAAAAABAAACAAAAAAEAAAoAAAAAAQAABAAA\n",
       "AAABAAAAAAAAAAEAAAIAAAAAAQAACgAAAAABAAAEAAAAAAEAAAAAAAAAAQAAAgAAAAABAAAKAAAA\n",
       "AAEAAAQAAAAAAQAAAAAAAAABAAACAAAAAAEAAAoAAAAAAQAABAAAAAABAAAAAAAAAAEAAAIAAAAA\n",
       "AQAACgAAAAABAAAEAAAAAAEAAAAAAAAAAQAAAgAAAAABAAAIAAAAAAIAAAIAAAAAAQAABgAAAAAB\n",
       "AAACAAAAAAEAAAoAAAAAAQAABAAAAAABAAAAAAAAAAEAAAIAAAAAAQAACgAAAAABAAAEAAAAAAEA\n",
       "AAAAAAAAAQAAAgAAAAABAAAKAAAAAAEAAAQAAAAAAQAAAAAAAAABAAACAAAAAAEAAAYAAAAAAQAA\n",
       "AgAAAAABAAAKAAAAAAEAAAQAAAAAAQAAAAAAAAABAAACAAAAAAEAAAoAAAAAAQAABAAAAAABAAAA\n",
       "AAAAAAEAAAIAAAAAAQAACAAAAAACAAACAAAAAAEAAAgAAAAAAgAAAgAAAAABAAAKAAAAAAEAAAQA\n",
       "AAAAAQAAAAAAAAABAAACAAAAAAEAAAoAAAAAAQAABAAAAAABAAAAAAAAAAEAAAIAAAAAAQAABAAA\n",
       "AAAcc3RzYwAAAAAAAAABAAAAAQAAALcAAAABAAAC8HN0c3oAAAAAAAAAAAAAALcAAATLAAAAZQAA\n",
       "AFYAAAAhAAAAJwAAAFkAAAAjAAAAKQAAABYAAAC4AAAASgAAACMAAAAwAAAA2QAAAE8AAAAhAAAA\n",
       "MgAAAOoAAAA8AAAAKwAAACIAAACWAAAAQAAAADEAAAA5AAAArwAAAEAAAAAmAAAALgAAAK0AAAA+\n",
       "AAAANgAAACEAAAC+AAAARAAAADQAAAA/AAAAkgAAADIAAAAyAAAAJAAAAKQAAAA1AAAALAAAADwA\n",
       "AAC2AAAASgAAAB4AAAA6AAAAogAAADsAAAA1AAAANQAAAJIAAABaAAAAJAAAAEAAAACGAAAAOwAA\n",
       "AEAAAAAzAAAAqwAAAIAAAAA6AAAAPwAAAJ8AAABPAAAAOAAAADMAAAC+AAAAVgAAADwAAAA/AAAA\n",
       "mQAAAEIAAAA5AAAAPAAAAHcAAABBAAAAMAAAACwAAACuAAAAYQAAADYAAABAAAAAmwAAAD4AAAAt\n",
       "AAAALwAAAPEAAABZAAAAPQAAAEcAAAC3AAAAdAAAAEcAAABSAAAAlwAAAFgAAABJAAAAOgAAAJMA\n",
       "AABZAAAAOwAAAD8AAABnAAAASQAAAEwAAABSAAAAxgAAAFoAAAA2AAAAPAAAALEAAABaAAAARgAA\n",
       "AFMAAADJAAAAXAAAAEQAAABIAAAAlgAAAGkAAAAyAAAAMgAAAIgAAAA1AAAARQAAADYAAAB1AAAA\n",
       "WAAAAFUAAABiAAAAtAAAAFwAAABXAAAASgAAAOQAAABWAAAATgAAADsAAADUAAAATgAAAEAAAAB1\n",
       "AAAAcQAAAJMAAABBAAAAWAAAAFkAAAC3AAAAVwAAAE0AAABiAAAA1gAAAFQAAABlAAAASQAAAMsA\n",
       "AABLAAAAwAAAAEwAAABLAAAATAAAALYAAABfAAAAOgAAAFMAAACbAAAAOAAAAHAAAACnAAAAUwAA\n",
       "AFEAAABXAAAAaAAAAFkAAABVAAAATAAAAFMAAABGAAAAQQAAADUAAAAUc3RjbwAAAAAAAAABAAAA\n",
       "MAAAAGF1ZHRhAAAAWW1ldGEAAAAAAAAAIWhkbHIAAAAAAAAAAG1kaXJhcHBsAAAAAAAAAAAAAAAA\n",
       "LGlsc3QAAAAkqXRvbwAAABxkYXRhAAAAAQAAAABMYXZmNjEuOS4xMDA=\n",
       "\">\n",
       "  Your browser does not support the video tag.\n",
       "</video>"
      ],
      "text/plain": [
       "<IPython.core.display.HTML object>"
      ]
     },
     "execution_count": 38,
     "metadata": {},
     "output_type": "execute_result"
    }
   ],
   "source": [
    "test_agent(env, policy, episodes=1)"
   ]
  },
  {
   "cell_type": "markdown",
   "metadata": {
    "id": "KK-lKC9RmGO_"
   },
   "source": [
    "## Resources"
   ]
  },
  {
   "cell_type": "markdown",
   "metadata": {
    "id": "5y5r_670mGO_"
   },
   "source": [
    "[[1] Playing Atari with Deep Reinforcement Learning](https://www.cs.toronto.edu/~vmnih/docs/dqn.pdf)"
   ]
  }
 ],
 "metadata": {
  "colab": {
   "provenance": []
  },
  "kernelspec": {
   "display_name": "Python (gynasiom_env)",
   "language": "python",
   "name": "gynasiom_env"
  },
  "language_info": {
   "codemirror_mode": {
    "name": "ipython",
    "version": 3
   },
   "file_extension": ".py",
   "mimetype": "text/x-python",
   "name": "python",
   "nbconvert_exporter": "python",
   "pygments_lexer": "ipython3",
   "version": "3.11.4"
  }
 },
 "nbformat": 4,
 "nbformat_minor": 4
}
